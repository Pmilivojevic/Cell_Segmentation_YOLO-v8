{
 "cells": [
  {
   "cell_type": "code",
   "execution_count": 1,
   "metadata": {},
   "outputs": [
    {
     "data": {
      "text/plain": [
       "True"
      ]
     },
     "execution_count": 1,
     "metadata": {},
     "output_type": "execute_result"
    }
   ],
   "source": [
    "import kaggle\n",
    "from dotenv import load_dotenv\n",
    "import os\n",
    "import subprocess\n",
    "\n",
    "load_dotenv()"
   ]
  },
  {
   "cell_type": "code",
   "execution_count": 8,
   "metadata": {},
   "outputs": [],
   "source": [
    "competition_name = \"data-science-bowl-2018\"\n",
    "dataset_filename = \"stage1_train.zip\"\n",
    "root_dir = \"/mnt/cb03386d-9344-47b1-82f9-868fbb64b4ae/python_projects/Cell_Segmentation_YOLO-v8/data\""
   ]
  },
  {
   "cell_type": "code",
   "execution_count": 4,
   "metadata": {},
   "outputs": [
    {
     "name": "stdout",
     "output_type": "stream",
     "text": [
      "Downloading stage1_train.zip to /mnt/cb03386d-9344-47b1-82f9-868fbb64b4ae/python_projects/Cell_Segmentation_YOLO-v8/data\n",
      "100%|█████████████████████████████████████▉| 79.0M/79.1M [00:04<00:00, 26.1MB/s]\n",
      "100%|██████████████████████████████████████| 79.1M/79.1M [00:04<00:00, 18.0MB/s]\n"
     ]
    }
   ],
   "source": [
    "!kaggle competitions download -c $competition_name -f $dataset_filename -p $root_dir"
   ]
  },
  {
   "cell_type": "code",
   "execution_count": 11,
   "metadata": {},
   "outputs": [
    {
     "name": "stdout",
     "output_type": "stream",
     "text": [
      "500 - Internal Server Error - InternalServerError\n"
     ]
    },
    {
     "data": {
      "text/plain": [
       "256"
      ]
     },
     "execution_count": 11,
     "metadata": {},
     "output_type": "execute_result"
    }
   ],
   "source": [
    "os.system(\"kaggle competitions download -c data-science-bowl-2018 -f stage1_train.zip -p '/mnt/cb03386d-9344-47b1-82f9-868fbb64b4ae/python_projects/Cell_Segmentation_YOLO-v8/data'\")"
   ]
  },
  {
   "cell_type": "code",
   "execution_count": 13,
   "metadata": {},
   "outputs": [
    {
     "name": "stdout",
     "output_type": "stream",
     "text": [
      "Downloading stage1_train.zip to /mnt/cb03386d-9344-47b1-82f9-868fbb64b4ae/python_projects/Cell_Segmentation_YOLO-v8/data\n"
     ]
    },
    {
     "name": "stderr",
     "output_type": "stream",
     "text": [
      " 91%|█████████ | 72.0M/79.1M [00:03<00:00, 34.4MB/s]"
     ]
    },
    {
     "name": "stdout",
     "output_type": "stream",
     "text": [
      "\n"
     ]
    },
    {
     "name": "stderr",
     "output_type": "stream",
     "text": [
      "100%|██████████| 79.1M/79.1M [00:03<00:00, 24.7MB/s]\n"
     ]
    }
   ],
   "source": [
    "info = os.system(f\"kaggle competitions download -c {competition_name} -f {dataset_filename} -p {root_dir}\")"
   ]
  },
  {
   "cell_type": "code",
   "execution_count": 14,
   "metadata": {},
   "outputs": [
    {
     "name": "stdout",
     "output_type": "stream",
     "text": [
      "Downloading stage1_train.zip to /mnt/cb03386d-9344-47b1-82f9-868fbb64b4ae/python_projects/Cell_Segmentation_YOLO-v8/data\n"
     ]
    },
    {
     "name": "stderr",
     "output_type": "stream",
     "text": [
      " 91%|█████████ | 72.0M/79.1M [00:03<00:00, 34.0MB/s]"
     ]
    },
    {
     "name": "stdout",
     "output_type": "stream",
     "text": [
      "\n"
     ]
    },
    {
     "name": "stderr",
     "output_type": "stream",
     "text": [
      "100%|██████████| 79.1M/79.1M [00:03<00:00, 24.6MB/s]\n"
     ]
    }
   ],
   "source": [
    "info = subprocess.run(f\"kaggle competitions download -c {competition_name} -f {dataset_filename} -p {root_dir}\", shell=True)"
   ]
  },
  {
   "cell_type": "code",
   "execution_count": 15,
   "metadata": {},
   "outputs": [
    {
     "name": "stdout",
     "output_type": "stream",
     "text": [
      "CompletedProcess(args='kaggle competitions download -c data-science-bowl-2018 -f stage1_train.zip -p /mnt/cb03386d-9344-47b1-82f9-868fbb64b4ae/python_projects/Cell_Segmentation_YOLO-v8/data', returncode=0)\n"
     ]
    }
   ],
   "source": [
    "print(info)"
   ]
  },
  {
   "cell_type": "code",
   "execution_count": 2,
   "metadata": {},
   "outputs": [
    {
     "data": {
      "text/plain": [
       "'/mnt/cb03386d-9344-47b1-82f9-868fbb64b4ae/python_projects/Cell_Segmentation_YOLO-v8'"
      ]
     },
     "execution_count": 2,
     "metadata": {},
     "output_type": "execute_result"
    }
   ],
   "source": [
    "os.chdir('../')\n",
    "%pwd"
   ]
  },
  {
   "cell_type": "code",
   "execution_count": 21,
   "metadata": {},
   "outputs": [],
   "source": [
    "path_folder = 'artifacts/data_ingestion/test'"
   ]
  },
  {
   "cell_type": "code",
   "execution_count": 22,
   "metadata": {},
   "outputs": [],
   "source": [
    "folder_list = os.listdir(path_folder)"
   ]
  },
  {
   "cell_type": "code",
   "execution_count": 23,
   "metadata": {},
   "outputs": [
    {
     "name": "stdout",
     "output_type": "stream",
     "text": [
      "['images']\n",
      "['images']\n",
      "['images']\n",
      "['images']\n",
      "['images']\n",
      "['images']\n",
      "['images']\n",
      "['images']\n",
      "['images']\n",
      "['images']\n",
      "['images']\n",
      "['images']\n",
      "['images']\n",
      "['images']\n",
      "['images']\n",
      "['images']\n",
      "['images']\n",
      "['images']\n",
      "['images']\n",
      "['images']\n",
      "['images']\n",
      "['images']\n",
      "['images']\n",
      "['images']\n",
      "['images']\n",
      "['images']\n",
      "['images']\n",
      "['images']\n",
      "['images']\n",
      "['images']\n",
      "['images']\n",
      "['images']\n",
      "['images']\n",
      "['images']\n",
      "['images']\n",
      "['images']\n",
      "['images']\n",
      "['images']\n",
      "['images']\n",
      "['images']\n",
      "['images']\n",
      "['images']\n",
      "['images']\n",
      "['images']\n",
      "['images']\n",
      "['images']\n",
      "['images']\n",
      "['images']\n",
      "['images']\n",
      "['images']\n",
      "['images']\n",
      "['images']\n",
      "['images']\n",
      "['images']\n",
      "['images']\n",
      "['images']\n",
      "['images']\n",
      "['images']\n",
      "['images']\n",
      "['images']\n",
      "['images']\n",
      "['images']\n",
      "['images']\n",
      "['images']\n",
      "['images']\n"
     ]
    }
   ],
   "source": [
    "for dir in folder_list:\n",
    "    ls = os.listdir(os.path.join(path_folder, dir))\n",
    "    print(ls)"
   ]
  },
  {
   "cell_type": "code",
   "execution_count": 20,
   "metadata": {},
   "outputs": [
    {
     "name": "stdout",
     "output_type": "stream",
     "text": [
      "False\n"
     ]
    }
   ],
   "source": [
    "if ['masks', 'images'] == ['images', 'masks']:\n",
    "    print('True')\n",
    "else:\n",
    "    print(False)"
   ]
  },
  {
   "cell_type": "code",
   "execution_count": null,
   "metadata": {},
   "outputs": [],
   "source": []
  }
 ],
 "metadata": {
  "kernelspec": {
   "display_name": ".venv",
   "language": "python",
   "name": "python3"
  },
  "language_info": {
   "codemirror_mode": {
    "name": "ipython",
    "version": 3
   },
   "file_extension": ".py",
   "mimetype": "text/x-python",
   "name": "python",
   "nbconvert_exporter": "python",
   "pygments_lexer": "ipython3",
   "version": "3.10.12"
  }
 },
 "nbformat": 4,
 "nbformat_minor": 2
}
