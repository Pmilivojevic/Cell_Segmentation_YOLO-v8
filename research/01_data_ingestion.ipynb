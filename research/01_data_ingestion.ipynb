{
 "cells": [
  {
   "cell_type": "code",
   "execution_count": 1,
   "metadata": {},
   "outputs": [
    {
     "data": {
      "text/plain": [
       "'/mnt/cb03386d-9344-47b1-82f9-868fbb64b4ae/python_projects/Cell_Segmentation_YOLO-v8/research'"
      ]
     },
     "execution_count": 1,
     "metadata": {},
     "output_type": "execute_result"
    }
   ],
   "source": [
    "import os\n",
    "%pwd"
   ]
  },
  {
   "cell_type": "code",
   "execution_count": 2,
   "metadata": {},
   "outputs": [
    {
     "data": {
      "text/plain": [
       "'/mnt/cb03386d-9344-47b1-82f9-868fbb64b4ae/python_projects/Cell_Segmentation_YOLO-v8'"
      ]
     },
     "execution_count": 2,
     "metadata": {},
     "output_type": "execute_result"
    }
   ],
   "source": [
    "os.chdir('../')\n",
    "%pwd"
   ]
  },
  {
   "cell_type": "code",
   "execution_count": 3,
   "metadata": {},
   "outputs": [],
   "source": [
    "from dataclasses import dataclass\n",
    "from pathlib import Path\n",
    "\n",
    "@dataclass(frozen=True)\n",
    "class DataIngestionConfig:\n",
    "    root_dir: Path\n",
    "    competition_name: str\n",
    "    train_dataset_filename: str\n",
    "    test_dataset_filename: str\n",
    "    train_dataset_local_path: Path\n",
    "    test_dataset_local_path: Path"
   ]
  },
  {
   "cell_type": "code",
   "execution_count": 4,
   "metadata": {},
   "outputs": [],
   "source": [
    "from src.cellseg.constant import *\n",
    "from src.cellseg.utils.main_utils import create_directories, read_yaml\n",
    "\n",
    "class ConfigurationMananger:\n",
    "    def __init__(\n",
    "        self,\n",
    "        config_file_path = CONFIG_FILE_PATH,\n",
    "        params_file_path = PARAMS_FILE_PATH,\n",
    "        schema_file_path = SCHEMA_FILE_PATH\n",
    "    ):\n",
    "        self.config = read_yaml(config_file_path)\n",
    "        self.params = read_yaml(params_file_path)\n",
    "        self.schema = read_yaml(schema_file_path)\n",
    "        \n",
    "        create_directories([self.config.artifacts_root])\n",
    "        \n",
    "    def get_data_ingestion_config(self) -> DataIngestionConfig:\n",
    "        config = self.config.data_ingestion\n",
    "        \n",
    "        create_directories([config.root_dir])\n",
    "        \n",
    "        data_ingestion_config = DataIngestionConfig(\n",
    "            root_dir=config.root_dir,\n",
    "            competition_name=config.competition_name,\n",
    "            train_dataset_filename=config.train_dataset_filename,\n",
    "            test_dataset_filename=config.test_dataset_filename,\n",
    "            train_dataset_local_path = os.path.join(\n",
    "                config.root_dir,\n",
    "                config.train_dataset_filename\n",
    "            ),\n",
    "            test_dataset_local_path = os.path.join(\n",
    "                config.root_dir,\n",
    "                config.test_dataset_filename\n",
    "            )\n",
    "        )\n",
    "        \n",
    "        return data_ingestion_config"
   ]
  },
  {
   "cell_type": "code",
   "execution_count": 6,
   "metadata": {},
   "outputs": [],
   "source": [
    "import os\n",
    "from src.cellseg.utils.main_utils import get_size, create_directories, zip_file_extraction\n",
    "from src.cellseg import logger\n",
    "\n",
    "import subprocess\n",
    "\n",
    "class DataIngestion:\n",
    "    def __init__(self, config: DataIngestionConfig):\n",
    "        self.config = config\n",
    "    \n",
    "    def download_kaggle_dataset(self, local_path, competition_name, name):\n",
    "        if not os.path.exists(local_path):\n",
    "            info = subprocess.run(\n",
    "                f\"kaggle competitions download -c {competition_name} -f {name} -p {self.config.root_dir}\",\n",
    "                shell=True\n",
    "            )\n",
    "            logger.info(f\"{name} downloaded with folowing info: \\n{info}\")\n",
    "        else:\n",
    "            logger.info(f\"File already exists of size: {get_size(Path(local_path))}\")\n",
    "    \n",
    "    def download_dataset(self):\n",
    "        self.download_kaggle_dataset(\n",
    "            self.config.train_dataset_local_path,\n",
    "            self.config.competition_name,\n",
    "            self.config.train_dataset_filename\n",
    "        )\n",
    "        \n",
    "        self.download_kaggle_dataset(\n",
    "            self.config.test_dataset_local_path,\n",
    "            self.config.competition_name,\n",
    "            self.config.test_dataset_filename\n",
    "        )\n",
    "    \n",
    "    def extract_zip_files(self):\n",
    "        train_unzip_path = os.path.join(self.config.root_dir, 'train')\n",
    "        test_unzip_path = self.config.root_dir + '/test'\n",
    "        \n",
    "        create_directories([train_unzip_path, test_unzip_path])\n",
    "        \n",
    "        zip_file_extraction(self.config.train_dataset_local_path, train_unzip_path)\n",
    "        zip_file_extraction(self.config.test_dataset_local_path, test_unzip_path)\n",
    "    \n",
    "    def ingestion_compose(self):\n",
    "        if not os.path.exists(os.path.join(self.config.root_dir, 'train')) and not os.path.exists(os.path.join(self.config.root_dir, 'test')):\n",
    "            self.download_dataset()\n",
    "            self.extract_zip_files()\n",
    "        else:\n",
    "            logger.info(\"Dataset files already exist!\")"
   ]
  },
  {
   "cell_type": "code",
   "execution_count": 7,
   "metadata": {},
   "outputs": [
    {
     "name": "stdout",
     "output_type": "stream",
     "text": [
      "[2024-11-13 21:15:37,591: INFO: main_utils: created directory at: artifacts]\n",
      "[2024-11-13 21:15:37,593: INFO: main_utils: created directory at: artifacts/data_ingestion]\n",
      "[2024-11-13 21:15:37,594: INFO: 764276990: Dataset files already exist!]\n"
     ]
    }
   ],
   "source": [
    "try:\n",
    "    config = ConfigurationMananger()\n",
    "    data_ingestion_config = config.get_data_ingestion_config()\n",
    "    data_ingestion = DataIngestion(config=data_ingestion_config)\n",
    "    data_ingestion.ingestion_compose()\n",
    "\n",
    "except Exception as e:\n",
    "    raise e"
   ]
  },
  {
   "cell_type": "code",
   "execution_count": null,
   "metadata": {},
   "outputs": [],
   "source": []
  }
 ],
 "metadata": {
  "kernelspec": {
   "display_name": ".venv",
   "language": "python",
   "name": "python3"
  },
  "language_info": {
   "codemirror_mode": {
    "name": "ipython",
    "version": 3
   },
   "file_extension": ".py",
   "mimetype": "text/x-python",
   "name": "python",
   "nbconvert_exporter": "python",
   "pygments_lexer": "ipython3",
   "version": "3.10.12"
  }
 },
 "nbformat": 4,
 "nbformat_minor": 2
}
